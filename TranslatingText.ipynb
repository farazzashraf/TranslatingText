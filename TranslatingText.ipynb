{
  "nbformat": 4,
  "nbformat_minor": 0,
  "metadata": {
    "colab": {
      "provenance": [],
      "gpuType": "T4",
      "mount_file_id": "1Unmt2M7sFadWa-ridSTTxkdbeZAfWXVU",
      "authorship_tag": "ABX9TyPMEuRSZkS/5zVLNeZVc91X",
      "include_colab_link": true
    },
    "kernelspec": {
      "name": "python3",
      "display_name": "Python 3"
    },
    "language_info": {
      "name": "python"
    },
    "accelerator": "GPU"
  },
  "cells": [
    {
      "cell_type": "markdown",
      "metadata": {
        "id": "view-in-github",
        "colab_type": "text"
      },
      "source": [
        "<a href=\"https://colab.research.google.com/github/farazzashraf/TranslatingText/blob/main/TranslatingText.ipynb\" target=\"_parent\"><img src=\"https://colab.research.google.com/assets/colab-badge.svg\" alt=\"Open In Colab\"/></a>"
      ]
    },
    {
      "cell_type": "code",
      "source": [
        "!pip install mtranslate"
      ],
      "metadata": {
        "id": "A4C_LkcrHkBL",
        "colab": {
          "base_uri": "https://localhost:8080/"
        },
        "outputId": "85dc1226-ec59-42e1-f033-9b3385712130"
      },
      "execution_count": 2,
      "outputs": [
        {
          "output_type": "stream",
          "name": "stdout",
          "text": [
            "Collecting mtranslate\n",
            "  Downloading mtranslate-1.8.tar.gz (2.4 kB)\n",
            "  Preparing metadata (setup.py) ... \u001b[?25l\u001b[?25hdone\n",
            "Building wheels for collected packages: mtranslate\n",
            "  Building wheel for mtranslate (setup.py) ... \u001b[?25l\u001b[?25hdone\n",
            "  Created wheel for mtranslate: filename=mtranslate-1.8-py3-none-any.whl size=3672 sha256=e29236622c32e31cbe37b23281de8c6b17739a22a8391e3133b6826ff99b60c3\n",
            "  Stored in directory: /root/.cache/pip/wheels/c2/04/15/d7654c2c4a9a52e09922967593f3278fed66059be65ca671ea\n",
            "Successfully built mtranslate\n",
            "Installing collected packages: mtranslate\n",
            "Successfully installed mtranslate-1.8\n"
          ]
        }
      ]
    },
    {
      "cell_type": "code",
      "source": [
        "import pandas as pd\n",
        "from mtranslate import translate\n",
        "import re\n",
        "import time"
      ],
      "metadata": {
        "id": "HiVYJtad0209"
      },
      "execution_count": 3,
      "outputs": []
    },
    {
      "cell_type": "code",
      "source": [
        "def translate_text(text):\n",
        "    try:\n",
        "        # Skiping translation for empty cells\n",
        "        if pd.isnull(text):\n",
        "            return ''\n",
        "\n",
        "        translation = translate(text, 'en', 'auto')\n",
        "        return translation\n",
        "    except Exception as e:\n",
        "        print(f\"Error during translation: {e}\")\n",
        "        return text  # Returning the original text if translation fails\n",
        "\n",
        "def preprocess_text(text):\n",
        "    # Removing symbols and special characters\n",
        "    text = re.sub(r'[^\\w\\s]', '', str(text))\n",
        "\n",
        "    # Converting text to lowercase (optional, depending on your preference)\n",
        "    text = text.lower()\n",
        "\n",
        "    # Removing extra whitespaces\n",
        "    text = ' '.join(text.split())\n",
        "\n",
        "    return text\n",
        "\n",
        "def translate_file(input_file, output_file):\n",
        "    # Reading the existing file\n",
        "    start_time = time.time()\n",
        "    df = pd.read_excel(input_file)\n",
        "\n",
        "    # Translating headers separately\n",
        "    translated_headers = [translate_text(header) for header in df.columns]\n",
        "    df.columns = translated_headers\n",
        "\n",
        "    # Preprocessing text before translation\n",
        "    df = df.applymap(lambda x: preprocess_text(x))\n",
        "\n",
        "    # Translating all the text excluding headers to English\n",
        "    df_translated = df.applymap(translate_text)\n",
        "\n",
        "    # Saving the translated DataFrame to a new file\n",
        "    df_translated.to_excel(output_file, index=False)\n",
        "\n",
        "    # Printing the time it took to translate and save\n",
        "    end_time = time.time()\n",
        "    elapsed_time = end_time - start_time\n",
        "    print(f\"Translation and save completed in {elapsed_time:.2f} seconds.\")\n",
        "\n",
        "if __name__ == \"__main__\":\n",
        "    input_file = \"Order Export (4).xlsx\"\n",
        "    output_file = \"translated.xlsx\"\n",
        "\n",
        "    translate_file(input_file, output_file)\n",
        "\n"
      ],
      "metadata": {
        "colab": {
          "base_uri": "https://localhost:8080/"
        },
        "id": "LG_rQ7Z31JXW",
        "outputId": "9d3957b1-52ee-4e8a-9aae-61ec9ce0836a"
      },
      "execution_count": 4,
      "outputs": [
        {
          "output_type": "stream",
          "name": "stdout",
          "text": [
            "Translation and save completed in 531.26 seconds.\n"
          ]
        }
      ]
    },
    {
      "cell_type": "code",
      "source": [],
      "metadata": {
        "id": "2iU81cMd_Ugk"
      },
      "execution_count": null,
      "outputs": []
    }
  ]
}
